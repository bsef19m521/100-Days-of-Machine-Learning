{
 "cells": [
  {
   "cell_type": "markdown",
   "id": "cf7d5fd7",
   "metadata": {},
   "source": [
    "## Day 80- Introduction to Deep Learning and Artificial Neural Networks"
   ]
  },
  {
   "cell_type": "code",
   "execution_count": null,
   "id": "fad721f0",
   "metadata": {},
   "outputs": [],
   "source": []
  },
  {
   "cell_type": "markdown",
   "id": "8b032827",
   "metadata": {},
   "source": [
    "**Learning Agenda of Day 80 is :**\n",
    "- Overview of deep learning and its applications\n",
    "- Artificial neural networks and their structure\n",
    "- Perceptrons and the concept of linear separation\n",
    "- Activation functions and their role in neural networks\n",
    "- Gradient descent and backpropagation algorithms\n",
    "- Types of deep learning architectures: feedforward, convolutional, and recurrent\n",
    "- The concept of overfitting and regularization techniques\n",
    "- Introduction to popular deep learning frameworks such as TensorFlow and PyTorch\n",
    "- Terminology and key concepts such as layers, weights, biases, loss function, optimizer, etc.\n"
   ]
  },
  {
   "cell_type": "code",
   "execution_count": null,
   "id": "4e593f91",
   "metadata": {},
   "outputs": [],
   "source": []
  },
  {
   "cell_type": "code",
   "execution_count": null,
   "id": "e5a15bf7",
   "metadata": {},
   "outputs": [],
   "source": []
  },
  {
   "cell_type": "markdown",
   "id": "84d50c47",
   "metadata": {},
   "source": [
    "### Overview of deep learning and its applications\n",
    "\n",
    "<img src=\"images/applications.png\" height=\"400px\" width=\"400px\">\n",
    "\n",
    "From: [Link](https://www.google.com/url?sa=i&url=https%3A%2F%2Fjournalofbigdata.springeropen.com%2Farticles%2F10.1186%2Fs40537-021-00444-8&psig=AOvVaw00MXnyXUsUgIIt46xXwVAd&ust=1675346973769000&source=images&cd=vfe&ved=0CBIQ3YkBahcKEwiQj56BwPT8AhUAAAAAHQAAAAAQCA)"
   ]
  },
  {
   "cell_type": "code",
   "execution_count": null,
   "id": "a22e26e3",
   "metadata": {},
   "outputs": [],
   "source": []
  },
  {
   "cell_type": "code",
   "execution_count": null,
   "id": "ce2e30e8",
   "metadata": {},
   "outputs": [],
   "source": []
  }
 ],
 "metadata": {
  "kernelspec": {
   "display_name": "Python 3 (ipykernel)",
   "language": "python",
   "name": "python3"
  },
  "language_info": {
   "codemirror_mode": {
    "name": "ipython",
    "version": 3
   },
   "file_extension": ".py",
   "mimetype": "text/x-python",
   "name": "python",
   "nbconvert_exporter": "python",
   "pygments_lexer": "ipython3",
   "version": "3.10.6"
  }
 },
 "nbformat": 4,
 "nbformat_minor": 5
}
